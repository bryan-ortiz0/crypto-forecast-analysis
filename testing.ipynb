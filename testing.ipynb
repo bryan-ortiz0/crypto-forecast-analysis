{
 "cells": [
  {
   "cell_type": "code",
   "execution_count": 49,
   "id": "6ac9e279-6154-4f6a-ba05-bbf520672cf4",
   "metadata": {},
   "outputs": [],
   "source": [
    "import pandas as pd\n",
    "import numpy as np\n",
    "import matplotlib.pyplot as plt\n",
    "import datetime as dt\n",
    "import yfinance as yf\n",
    "import tensorflow as tf\n",
    "\n",
    "from sklearn.preprocessing import MinMaxScaler\n",
    "from tensorflow.keras.layers import Dense, Dropout, LSTM\n",
    "from tensorflow.keras.models import Sequential\n",
    "from tensorflow.keras.callbacks import EarlyStopping"
   ]
  },
  {
   "cell_type": "code",
   "execution_count": 50,
   "id": "30e1937c-d85d-4b19-9269-651d3304c9f3",
   "metadata": {},
   "outputs": [],
   "source": [
    "# Capture Data From Yahoo Finance"
   ]
  },
  {
   "cell_type": "code",
   "execution_count": 51,
   "id": "2262be35-419d-43f0-b2ba-15576f367d3c",
   "metadata": {},
   "outputs": [
    {
     "name": "stderr",
     "output_type": "stream",
     "text": [
      "[*********************100%%**********************]  1 of 1 completed\n"
     ]
    }
   ],
   "source": [
    "data = yf.download('ETH-USD')"
   ]
  },
  {
   "cell_type": "code",
   "execution_count": 52,
   "id": "8416fc74-3224-451f-9e90-8fe58b278abe",
   "metadata": {},
   "outputs": [],
   "source": [
    "# Prepare Data"
   ]
  },
  {
   "cell_type": "code",
   "execution_count": 53,
   "id": "0e1b4351-f748-4f89-be51-66f263856328",
   "metadata": {},
   "outputs": [],
   "source": [
    "scaler = MinMaxScaler(feature_range=(0,1))\n",
    "scaled_data = scaler.fit_transform(data['Close'].values.reshape(-1,1))"
   ]
  },
  {
   "cell_type": "code",
   "execution_count": 54,
   "id": "d0bab475-c482-4718-bc49-b47be1e6c308",
   "metadata": {},
   "outputs": [],
   "source": [
    "# Choose Number For Prediction Days\n",
    "# Prediction Days = Number of days we are going to base our prediction on\n",
    "# We look at the past x days (example: 60 or 90) and we look at one day into the future, so, predict 61 or 91"
   ]
  },
  {
   "cell_type": "code",
   "execution_count": 55,
   "id": "6bdef041-f77e-49e6-a169-a13e7f4952d2",
   "metadata": {},
   "outputs": [],
   "source": [
    "prediction_days = 60\n",
    "future_day = 30\n",
    "\n",
    "X_train, y_train = [], []\n",
    "\n",
    "for x in range(prediction_days, len(scaled_data)-future_day):\n",
    "    X_train.append(scaled_data[x-prediction_days:x, 0])\n",
    "    y_train.append(scaled_data[x+future_day, 0]) # Day after\n",
    "    \n",
    "X_train, y_train = np.array(X_train), np.array(y_train)\n",
    "X_train = np.reshape(X_train, (X_train.shape[0], X_train.shape[1], 1))"
   ]
  },
  {
   "cell_type": "code",
   "execution_count": 56,
   "id": "bfa74d4b-e1d6-4444-9009-dcfee937ebe9",
   "metadata": {},
   "outputs": [],
   "source": [
    "# Create Neural Network Model"
   ]
  },
  {
   "cell_type": "code",
   "execution_count": 57,
   "id": "cbbe7b71-1859-47a6-96fa-611aeae6f21a",
   "metadata": {},
   "outputs": [
    {
     "name": "stdout",
     "output_type": "stream",
     "text": [
      "Epoch 1/25\n",
      "68/68 [==============================] - 6s 30ms/step - loss: 0.0190\n",
      "Epoch 2/25\n",
      "68/68 [==============================] - 2s 29ms/step - loss: 0.0103\n",
      "Epoch 3/25\n",
      "68/68 [==============================] - 2s 29ms/step - loss: 0.0095\n",
      "Epoch 4/25\n",
      "68/68 [==============================] - 2s 29ms/step - loss: 0.0092\n",
      "Epoch 5/25\n",
      "68/68 [==============================] - 2s 29ms/step - loss: 0.0088\n",
      "Epoch 6/25\n",
      "68/68 [==============================] - 2s 29ms/step - loss: 0.0097\n",
      "Epoch 7/25\n",
      "68/68 [==============================] - 2s 29ms/step - loss: 0.0085\n",
      "Epoch 8/25\n",
      "68/68 [==============================] - 2s 29ms/step - loss: 0.0086\n",
      "Epoch 9/25\n",
      "68/68 [==============================] - 2s 29ms/step - loss: 0.0086\n",
      "Epoch 10/25\n",
      "68/68 [==============================] - 2s 29ms/step - loss: 0.0086\n",
      "Epoch 11/25\n",
      "68/68 [==============================] - 2s 29ms/step - loss: 0.0086\n",
      "Epoch 12/25\n",
      "68/68 [==============================] - 2s 29ms/step - loss: 0.0081\n",
      "Epoch 13/25\n",
      "68/68 [==============================] - 2s 29ms/step - loss: 0.0082\n",
      "Epoch 14/25\n",
      "68/68 [==============================] - 2s 29ms/step - loss: 0.0082\n",
      "Epoch 15/25\n",
      "68/68 [==============================] - 2s 29ms/step - loss: 0.0080\n",
      "Epoch 16/25\n",
      "68/68 [==============================] - 2s 29ms/step - loss: 0.0080\n",
      "Epoch 17/25\n",
      "68/68 [==============================] - 2s 29ms/step - loss: 0.0084\n",
      "Epoch 18/25\n",
      "68/68 [==============================] - 2s 29ms/step - loss: 0.0080\n",
      "Epoch 19/25\n",
      "68/68 [==============================] - 2s 29ms/step - loss: 0.0082\n",
      "Epoch 20/25\n",
      "68/68 [==============================] - 2s 29ms/step - loss: 0.0083\n",
      "Epoch 21/25\n",
      "68/68 [==============================] - 2s 29ms/step - loss: 0.0077\n",
      "Epoch 22/25\n",
      "68/68 [==============================] - 2s 29ms/step - loss: 0.0076\n",
      "Epoch 23/25\n",
      "68/68 [==============================] - 2s 29ms/step - loss: 0.0081\n",
      "Epoch 24/25\n",
      "68/68 [==============================] - 2s 29ms/step - loss: 0.0080\n",
      "Epoch 25/25\n",
      "68/68 [==============================] - 2s 29ms/step - loss: 0.0078\n"
     ]
    }
   ],
   "source": [
    "model = tf.keras.models.Sequential([\n",
    "    tf.keras.layers.LSTM(units=50, return_sequences=True, input_shape=(X_train.shape[1], 1)),\n",
    "    tf.keras.layers.Dropout(0.2),\n",
    "    tf.keras.layers.LSTM(units=50, return_sequences=True),\n",
    "    tf.keras.layers.Dropout(0.2),\n",
    "    tf.keras.layers.LSTM(units=50),\n",
    "    tf.keras.layers.Dropout(0.2),\n",
    "    tf.keras.layers.Dense(units=1)\n",
    "])\n",
    "\n",
    "model.compile(optimizer='adam', loss='mean_squared_error')\n",
    "early_stop = EarlyStopping(monitor='val_loss', patience=10, restore_best_weights=True)\n",
    "\n",
    "history = model.fit(X_train, y_train, \n",
    "                    epochs=25,\n",
    "                    batch_size=32)"
   ]
  },
  {
   "cell_type": "code",
   "execution_count": 58,
   "id": "ca638f98-f725-4c75-b3c8-924f9ebe8251",
   "metadata": {},
   "outputs": [],
   "source": [
    "start = dt.datetime(2019,1,1)\n",
    "end = dt.datetime.now()"
   ]
  },
  {
   "cell_type": "code",
   "execution_count": 59,
   "id": "b3828705-2eb7-4b8b-93fd-1a9160f735c4",
   "metadata": {},
   "outputs": [
    {
     "name": "stderr",
     "output_type": "stream",
     "text": [
      "[*********************100%%**********************]  1 of 1 completed\n"
     ]
    }
   ],
   "source": [
    "test_data = yf.download('ETH-USD', start, end)"
   ]
  },
  {
   "cell_type": "code",
   "execution_count": 60,
   "id": "0b73992b-5bca-4685-9f53-1306b59a311d",
   "metadata": {},
   "outputs": [],
   "source": [
    "actual_prices = test_data['Close'].values"
   ]
  },
  {
   "cell_type": "code",
   "execution_count": 61,
   "id": "8085d834-b79d-4c55-accd-c31c22524347",
   "metadata": {},
   "outputs": [],
   "source": [
    "total_dataset = pd.concat((data['Close'], test_data['Close']), axis=0)"
   ]
  },
  {
   "cell_type": "code",
   "execution_count": 62,
   "id": "52de8c81-2258-4322-9aab-efed93aad03b",
   "metadata": {},
   "outputs": [],
   "source": [
    "model_inputs = total_dataset[len(total_dataset) - len(test_data) - prediction_days:].values"
   ]
  },
  {
   "cell_type": "code",
   "execution_count": 63,
   "id": "84fd6d69-8c8a-4f79-84ae-2bd0ce000202",
   "metadata": {},
   "outputs": [],
   "source": [
    "model_inputs = model_inputs.reshape(-1, 1)\n",
    "model_inputs = scaler.fit_transform(model_inputs)"
   ]
  },
  {
   "cell_type": "code",
   "execution_count": 64,
   "id": "41c1f422-b37d-47f3-87cf-887177c7bc93",
   "metadata": {},
   "outputs": [
    {
     "name": "stdout",
     "output_type": "stream",
     "text": [
      "58/58 [==============================] - 1s 11ms/step\n"
     ]
    }
   ],
   "source": [
    "X_test = []\n",
    "\n",
    "for x in range(prediction_days, len(model_inputs)):\n",
    "    X_test.append(model_inputs[x-prediction_days:x, 0])\n",
    "\n",
    "X_test = np.array(X_test)\n",
    "X_test = np.reshape(X_test, (X_test.shape[0], X_test.shape[1], 1))\n",
    "\n",
    "prediction_prices = model.predict(X_test)\n",
    "prediction_prices = scaler.inverse_transform(prediction_prices)"
   ]
  },
  {
   "cell_type": "code",
   "execution_count": 65,
   "id": "6dfa8db8-699d-4143-bfa5-17e6bb15d9fb",
   "metadata": {},
   "outputs": [
    {
     "data": {
      "image/png": "[encoded data removed]",
      "text/plain": [
       "<Figure size 640x480 with 1 Axes>"
      ]
     },
     "metadata": {},
     "output_type": "display_data"
    }
   ],
   "source": [
    "plt.plot(actual_prices, color='black', label='Actual Prices')\n",
    "plt.plot(prediction_prices, color='green', label='Predicted Prices')\n",
    "plt.title(f'{crypto_currency} price prediction')\n",
    "plt.xlabel('Time')\n",
    "plt.ylabel('Price')\n",
    "plt.legend(loc='upper left');"
   ]
  },
  {
   "cell_type": "code",
   "execution_count": 66,
   "id": "0001f5dd-dc09-454e-af38-8599142255d1",
   "metadata": {},
   "outputs": [],
   "source": [
    "real_data = [model_inputs[len(model_inputs) + 1 - prediction_days:len(model_inputs) + 1, 0]]\n",
    "real_data = np.array(real_data)\n",
    "real_data = np.reshape(real_data, (real_data.shape[0], real_data.shape[1], 1))"
   ]
  },
  {
   "cell_type": "code",
   "execution_count": 67,
   "id": "f389500f-8b2b-4ecd-b596-a3aadac425d9",
   "metadata": {},
   "outputs": [
    {
     "name": "stdout",
     "output_type": "stream",
     "text": [
      "1/1 [==============================] - 1s 842ms/step\n"
     ]
    }
   ],
   "source": [
    "prediction = model.predict(real_data)\n",
    "prediction = scaler.inverse_transform(prediction)"
   ]
  },
  {
   "cell_type": "code",
   "execution_count": 68,
   "id": "a223acfb-f233-4273-8a4d-0c2dc18b3839",
   "metadata": {},
   "outputs": [
    {
     "data": {
      "text/plain": [
       "array([[2699.4824]], dtype=float32)"
      ]
     },
     "execution_count": 68,
     "metadata": {},
     "output_type": "execute_result"
    }
   ],
   "source": [
    "prediction"
   ]
  },
  {
   "cell_type": "code",
   "execution_count": null,
   "id": "a18065c6-a149-4ace-aab4-8ee6c7a7844c",
   "metadata": {},
   "outputs": [],
   "source": []
  }
 ],
 "metadata": {
  "kernelspec": {
   "display_name": "Python 3 (ipykernel)",
   "language": "python",
   "name": "python3"
  },
  "language_info": {
   "codemirror_mode": {
    "name": "ipython",
    "version": 3
   },
   "file_extension": ".py",
   "mimetype": "text/x-python",
   "name": "python",
   "nbconvert_exporter": "python",
   "pygments_lexer": "ipython3",
   "version": "3.10.9"
  }
 },
 "nbformat": 4,
 "nbformat_minor": 5
}
