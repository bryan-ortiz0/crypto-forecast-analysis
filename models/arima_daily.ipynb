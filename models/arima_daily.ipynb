{
 "cells": [
  {
   "cell_type": "markdown",
   "id": "8cbadfa4-e972-419b-8a7f-7c3286c29da0",
   "metadata": {},
   "source": [
    "# Import Library"
   ]
  },
  {
   "cell_type": "code",
   "execution_count": null,
   "id": "14168d2d-d842-4c02-aea9-3651d84a665d",
   "metadata": {},
   "outputs": [],
   "source": [
    "# Read In CSV"
   ]
  },
  {
   "cell_type": "markdown",
   "id": "f59022d3-6c2f-4d3b-8fa3-989d37c6a912",
   "metadata": {},
   "source": [
    "# Autocorrelation"
   ]
  },
  {
   "cell_type": "code",
   "execution_count": null,
   "id": "567a3654-ca17-4f74-a4da-b7e1fcd7507f",
   "metadata": {},
   "outputs": [],
   "source": [
    "autocorrelation = eth['2017':].resample('D').mean().fillna(method='ffill')['close']\n",
    "acf_plot = plot_acf(autocorrelation.diff().dropna(), lags=50, alpha=0.05, title='ACF with Confidence Intervals')\n",
    "\n",
    "visualization_folder = 'visualizations'\n",
    "os.makedirs(visualization_folder, exist_ok=True)\n",
    "\n",
    "plt.savefig(os.path.join(visualization_folder, 'acf_plot.png'));"
   ]
  },
  {
   "cell_type": "markdown",
   "id": "f071bb06-0967-4e3c-81cd-c8cfde4de0dd",
   "metadata": {},
   "source": [
    "- If you observe the autocorrelation value for the present value with itself it is 1.0 since current value is dependent on current value.\n",
    "- **Lower Bound Statistically Significant Lags:**\n",
    "> Lags 2, 6, 14, 16, 29, 32, 48 exhibit autocorrelation values that are statistically significant and fall below the lower confidence interval. These lags suggest potential negative correlations beyond what would be expected by random chance.\n",
    "\n",
    "- **Upper Bound Statistically Significant Lags:**\n",
    "> Lags 7, 17, 27, 33 exhibit autocorrelation values that are statistically significant and exceed the upper confidence interval. These lags suggest potential positive correlations beyond what would be expected by random chance."
   ]
  },
  {
   "cell_type": "markdown",
   "id": "11130b7f-6ca8-4cbb-9b9b-318fb661cf89",
   "metadata": {},
   "source": [
    "# Train ARIMA Model"
   ]
  },
  {
   "cell_type": "markdown",
   "id": "a167831b-96f5-4454-a21e-72f00790b8ed",
   "metadata": {},
   "source": [
    "# Evalutae ARIMA Model"
   ]
  }
 ],
 "metadata": {
  "kernelspec": {
   "display_name": "Python 3 (ipykernel)",
   "language": "python",
   "name": "python3"
  },
  "language_info": {
   "codemirror_mode": {
    "name": "ipython",
    "version": 3
   },
   "file_extension": ".py",
   "mimetype": "text/x-python",
   "name": "python",
   "nbconvert_exporter": "python",
   "pygments_lexer": "ipython3",
   "version": "3.10.9"
  }
 },
 "nbformat": 4,
 "nbformat_minor": 5
}
