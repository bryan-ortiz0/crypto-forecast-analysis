{
 "cells": [
  {
   "cell_type": "markdown",
   "id": "7545bee2-f5e6-46eb-b120-e4d3251303fa",
   "metadata": {},
   "source": [
    "# Table of Contents\n",
    "- [Import Library](#import-library)\n",
    "- [Read In CSV](#read-in-csv)\n",
    "- [Functions](#functions)\n",
    "- [Train RandomForest Model](#train-randomforest-model)\n",
    "    - [Baseline Model](#baseline-model)\n",
    "    - [GridSearched Model](#gridsearched-model)\n",
    "- [Evaluate RandomForest Model](#evaluate-randomforest-model)"
   ]
  },
  {
   "cell_type": "markdown",
   "id": "1666cfc9-f4e0-4e7b-8e85-224274b2076d",
   "metadata": {},
   "source": [
    "# Import Library"
   ]
  },
  {
   "cell_type": "code",
   "execution_count": null,
   "id": "e81f9ba2-5aa6-4ee5-a43f-b9a628cb040b",
   "metadata": {},
   "outputs": [],
   "source": []
  },
  {
   "cell_type": "markdown",
   "id": "4cea01ec-8539-422a-96e5-b69840891300",
   "metadata": {},
   "source": [
    "# Read in CSV"
   ]
  },
  {
   "cell_type": "code",
   "execution_count": null,
   "id": "9611a985-f2e0-4670-953f-e33839f0ff6f",
   "metadata": {},
   "outputs": [],
   "source": []
  },
  {
   "cell_type": "code",
   "execution_count": null,
   "id": "147557fa-e248-441c-acc4-52efafa33844",
   "metadata": {},
   "outputs": [],
   "source": []
  },
  {
   "cell_type": "markdown",
   "id": "3d4bbd5a-829f-4e2b-86a4-83d18b5486bd",
   "metadata": {},
   "source": [
    "# Functions"
   ]
  },
  {
   "cell_type": "code",
   "execution_count": null,
   "id": "0a9da770-2366-472f-860f-81e34df92410",
   "metadata": {},
   "outputs": [],
   "source": []
  },
  {
   "cell_type": "code",
   "execution_count": null,
   "id": "747b4e0b-55e6-4683-b32b-a1d5f6e9d698",
   "metadata": {},
   "outputs": [],
   "source": []
  },
  {
   "cell_type": "markdown",
   "id": "6f121973-6dc5-4ca6-904d-9ece4ca6a695",
   "metadata": {},
   "source": [
    "# Train Model"
   ]
  },
  {
   "cell_type": "code",
   "execution_count": null,
   "id": "883c1162-e2c5-4898-ba70-4ebf8a4c1b75",
   "metadata": {},
   "outputs": [],
   "source": []
  },
  {
   "cell_type": "code",
   "execution_count": null,
   "id": "96d4213f-5ada-48bf-8f81-24d53d63ba98",
   "metadata": {},
   "outputs": [],
   "source": []
  },
  {
   "cell_type": "markdown",
   "id": "4bee6982-ac3e-47ca-9e73-ec0949df41b2",
   "metadata": {},
   "source": [
    "# Evaluate Model"
   ]
  },
  {
   "cell_type": "code",
   "execution_count": null,
   "id": "7ec69719-15e7-4f6d-b842-f6c604fad9e7",
   "metadata": {},
   "outputs": [],
   "source": []
  }
 ],
 "metadata": {
  "kernelspec": {
   "display_name": "Python 3 (ipykernel)",
   "language": "python",
   "name": "python3"
  },
  "language_info": {
   "codemirror_mode": {
    "name": "ipython",
    "version": 3
   },
   "file_extension": ".py",
   "mimetype": "text/x-python",
   "name": "python",
   "nbconvert_exporter": "python",
   "pygments_lexer": "ipython3",
   "version": "3.10.9"
  }
 },
 "nbformat": 4,
 "nbformat_minor": 5
}
