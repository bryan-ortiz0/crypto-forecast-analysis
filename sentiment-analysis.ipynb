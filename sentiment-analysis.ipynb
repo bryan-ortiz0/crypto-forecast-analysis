{
 "cells": [
  {
   "cell_type": "markdown",
   "id": "e8767e5d-7b43-4c13-b7a9-b0718a715376",
   "metadata": {},
   "source": [
    "# ETH Sentiment Analysis\n",
    "\n",
    "This notebook showcases the utilization of DistilBERT base uncased finetuned on SST-2 English (distilbert-base-uncased-finetuned-sst-2-english) from Hugging Face Transformers for sentiment analysis on Wikipedia revision updates pertaining to Ethereum. Commencing with importing necessary libraries, the notebook progresses toward procuring raw Wikipedia revision records, extracting sentiments via the selected transformer model, archiving the extracted sentiments, and ultimately saving the processed data as a structured CSV file. Implementing sentiment analysis enables qualitative categorization and interpretation of fluctuating attitudes expressed in Ethereum-related Wikipedia edits, fostering enhanced comprehension of community dynamics, interest trajectories, and potential ramifications for the broader cryptocurrency landscape."
   ]
  },
  {
   "cell_type": "markdown",
   "id": "cd48bbc9-f40b-4a1b-946d-d982e5114599",
   "metadata": {},
   "source": [
    "# Table of Contents\n",
    "- [Import Library](#import-library)\n",
    "- [Acquire Wikipedia Revisions](#acquire-wikipedia-revisions)\n",
    "- [Use Transformer From Huggingface For Sentiment Analysis](#use-transformer-from-hugginface-for-sentiment-analysis)\n",
    "- [Store Sentiments](#store-sentiments)\n",
    "- [Save CSV](#save-csv)"
   ]
  },
  {
   "cell_type": "markdown",
   "id": "e3c1ba91-60c7-44c3-894b-f47cc0dccb97",
   "metadata": {},
   "source": [
    "# Import Library"
   ]
  },
  {
   "cell_type": "code",
   "execution_count": 35,
   "id": "b0c034fb-e2cc-4b13-ae96-e0ad20aee990",
   "metadata": {},
   "outputs": [],
   "source": [
    "import mwclient\n",
    "import time\n",
    "import os\n",
    "import warnings\n",
    "import pandas as pd\n",
    "\n",
    "os.environ[\"HF_HUB_DISABLE_SYMLINKS_WARNING\"] = \"1\"\n",
    "\n",
    "from transformers import pipeline\n",
    "from statistics import mean\n",
    "from datetime import datetime"
   ]
  },
  {
   "cell_type": "markdown",
   "id": "15597b2c-2b91-4164-bbaf-a6e71317fbd2",
   "metadata": {},
   "source": [
    "# Acquire Wikipedia Revisions"
   ]
  },
  {
   "cell_type": "code",
   "execution_count": 12,
   "id": "af19145b-0612-4672-bb08-63f9c590da41",
   "metadata": {},
   "outputs": [],
   "source": [
    "website = mwclient.Site('en.wikipedia.org')\n",
    "website_pages = website.pages['Ethereum']"
   ]
  },
  {
   "cell_type": "code",
   "execution_count": 14,
   "id": "4d3f8650-5f55-4f03-84e9-60bde69a85a1",
   "metadata": {},
   "outputs": [],
   "source": [
    "website_revisions = list(website_pages.revisions())\n",
    "website_revisions = sorted(website_revisions, key=lambda website_revisions: website_revisions['timestamp']) # 2014 instead of 2024"
   ]
  },
  {
   "cell_type": "code",
   "execution_count": 15,
   "id": "c783097e-7429-4799-8159-920393efe4cc",
   "metadata": {},
   "outputs": [
    {
     "data": {
      "text/plain": [
       "OrderedDict([('revid', 592567939),\n",
       "             ('parentid', 0),\n",
       "             ('user', 'Sanpitch'),\n",
       "             ('timestamp',\n",
       "              time.struct_time(tm_year=2014, tm_mon=1, tm_mday=27, tm_hour=1, tm_min=53, tm_sec=45, tm_wday=0, tm_yday=27, tm_isdst=-1)),\n",
       "             ('comment',\n",
       "              \"[[WP:AES|←]]Created page with '{{Infobox currency | image_1 =  | image_title_1 =  | image_width_1 =  | image_2 =  | image_title_2 =  | image_width_2 =  |issuing_authority = None. The Ethereum...'\")])"
      ]
     },
     "execution_count": 15,
     "metadata": {},
     "output_type": "execute_result"
    }
   ],
   "source": [
    "website_revisions[0]"
   ]
  },
  {
   "cell_type": "markdown",
   "id": "3cce7ade-a09c-4e4e-9b3d-feddb54250ff",
   "metadata": {},
   "source": [
    "# Use Transformer From Huggingface For Sentiment Analysis"
   ]
  },
  {
   "cell_type": "code",
   "execution_count": 21,
   "id": "b78ace25-c249-4eea-85dc-01e62a560c15",
   "metadata": {},
   "outputs": [
    {
     "name": "stderr",
     "output_type": "stream",
     "text": [
      "No model was supplied, defaulted to distilbert-base-uncased-finetuned-sst-2-english and revision af0f99b (https://huggingface.co/distilbert-base-uncased-finetuned-sst-2-english).\n",
      "Using a pipeline without specifying a model name and revision in production is not recommended.\n"
     ]
    }
   ],
   "source": [
    "sentiment_model = pipeline('sentiment-analysis')\n",
    "\n",
    "def text_sentiment(text):\n",
    "    sentiment = sentiment_model([text[:250]])[0]\n",
    "    \n",
    "    sentiment_score = sentiment['score']\n",
    "    \n",
    "    if sentiment['label'] == 'NEGATIVE':\n",
    "        sentiment_score *= -1\n",
    "    \n",
    "    return sentiment_score"
   ]
  },
  {
   "cell_type": "code",
   "execution_count": 22,
   "id": "8e9aa02f-b084-4a09-8471-32215afc53f0",
   "metadata": {},
   "outputs": [
    {
     "name": "stdout",
     "output_type": "stream",
     "text": [
      "Sentiment score: 0.9998656511306763\n",
      "Sentiment score: -0.9991129040718079\n",
      "Sentiment score: -0.9937905669212341\n"
     ]
    }
   ],
   "source": [
    "print(f\"Sentiment score: {text_sentiment('I love you')}\")\n",
    "print(f\"Sentiment score: {text_sentiment('I hate you')}\")\n",
    "print(f\"Sentiment score: {text_sentiment('I feel neutral about you')}\") # not always perfect"
   ]
  },
  {
   "cell_type": "markdown",
   "id": "da4d18ba-a777-4a74-a5f8-39e111f56b25",
   "metadata": {},
   "source": [
    "# Store Sentiments"
   ]
  },
  {
   "cell_type": "code",
   "execution_count": 27,
   "id": "01b39a48-1506-4806-b03c-2ff870d30418",
   "metadata": {},
   "outputs": [],
   "source": [
    "edits = {}\n",
    "\n",
    "for website_revision in website_revisions:\n",
    "    date = time.strftime('%Y-%m-%d', website_revision['timestamp'])\n",
    "    \n",
    "    if date not in edits:\n",
    "        edits[date] = dict(sentiments=list(), edit_count=0)\n",
    "    \n",
    "    edits[date]['edit_count'] += 1\n",
    "    \n",
    "    comment = website_revision.get('comment', '')\n",
    "    edits[date]['sentiments'].append(text_sentiment(comment))"
   ]
  },
  {
   "cell_type": "code",
   "execution_count": 29,
   "id": "a683d1d3-98b7-44c7-bbfe-216a1dd49fd8",
   "metadata": {},
   "outputs": [],
   "source": [
    "for key in edits:\n",
    "    if len(edits[key]['sentiments']) > 0:\n",
    "        edits[key]['sentiment'] = mean(edits[key]['sentiments'])\n",
    "        edits[key]['negative_sentiment'] = len([edit for edit in edits[key]['sentiments'] if edit < 0]) / len(edits[key]['sentiments'])\n",
    "    else:\n",
    "        edits[key]['sentiment'] = 0\n",
    "        edits[key]['negative_sentiment'] = 0\n",
    "    \n",
    "    del edits[key]['sentiments']"
   ]
  },
  {
   "cell_type": "code",
   "execution_count": 30,
   "id": "4d92ed14-acd1-405e-9d77-96c2db7d669b",
   "metadata": {},
   "outputs": [
    {
     "data": {
      "text/html": [
       "<div>\n",
       "<style scoped>\n",
       "    .dataframe tbody tr th:only-of-type {\n",
       "        vertical-align: middle;\n",
       "    }\n",
       "\n",
       "    .dataframe tbody tr th {\n",
       "        vertical-align: top;\n",
       "    }\n",
       "\n",
       "    .dataframe thead th {\n",
       "        text-align: right;\n",
       "    }\n",
       "</style>\n",
       "<table border=\"1\" class=\"dataframe\">\n",
       "  <thead>\n",
       "    <tr style=\"text-align: right;\">\n",
       "      <th></th>\n",
       "      <th>edit_count</th>\n",
       "      <th>sentiment</th>\n",
       "      <th>negative_sentiment</th>\n",
       "    </tr>\n",
       "  </thead>\n",
       "  <tbody>\n",
       "    <tr>\n",
       "      <th>2014-01-27</th>\n",
       "      <td>1</td>\n",
       "      <td>-0.998511</td>\n",
       "      <td>1.000000</td>\n",
       "    </tr>\n",
       "    <tr>\n",
       "      <th>2014-02-01</th>\n",
       "      <td>1</td>\n",
       "      <td>-0.997276</td>\n",
       "      <td>1.000000</td>\n",
       "    </tr>\n",
       "    <tr>\n",
       "      <th>2014-04-06</th>\n",
       "      <td>5</td>\n",
       "      <td>0.790979</td>\n",
       "      <td>0.000000</td>\n",
       "    </tr>\n",
       "    <tr>\n",
       "      <th>2014-04-09</th>\n",
       "      <td>24</td>\n",
       "      <td>0.646407</td>\n",
       "      <td>0.083333</td>\n",
       "    </tr>\n",
       "    <tr>\n",
       "      <th>2014-04-10</th>\n",
       "      <td>9</td>\n",
       "      <td>-0.361518</td>\n",
       "      <td>0.666667</td>\n",
       "    </tr>\n",
       "    <tr>\n",
       "      <th>...</th>\n",
       "      <td>...</td>\n",
       "      <td>...</td>\n",
       "      <td>...</td>\n",
       "    </tr>\n",
       "    <tr>\n",
       "      <th>2023-12-05</th>\n",
       "      <td>1</td>\n",
       "      <td>-0.999764</td>\n",
       "      <td>1.000000</td>\n",
       "    </tr>\n",
       "    <tr>\n",
       "      <th>2023-12-11</th>\n",
       "      <td>1</td>\n",
       "      <td>-0.994897</td>\n",
       "      <td>1.000000</td>\n",
       "    </tr>\n",
       "    <tr>\n",
       "      <th>2023-12-23</th>\n",
       "      <td>1</td>\n",
       "      <td>0.748121</td>\n",
       "      <td>0.000000</td>\n",
       "    </tr>\n",
       "    <tr>\n",
       "      <th>2024-01-05</th>\n",
       "      <td>1</td>\n",
       "      <td>0.965976</td>\n",
       "      <td>0.000000</td>\n",
       "    </tr>\n",
       "    <tr>\n",
       "      <th>2024-01-15</th>\n",
       "      <td>1</td>\n",
       "      <td>-0.980530</td>\n",
       "      <td>1.000000</td>\n",
       "    </tr>\n",
       "  </tbody>\n",
       "</table>\n",
       "<p>1150 rows × 3 columns</p>\n",
       "</div>"
      ],
      "text/plain": [
       "            edit_count  sentiment  negative_sentiment\n",
       "2014-01-27           1  -0.998511            1.000000\n",
       "2014-02-01           1  -0.997276            1.000000\n",
       "2014-04-06           5   0.790979            0.000000\n",
       "2014-04-09          24   0.646407            0.083333\n",
       "2014-04-10           9  -0.361518            0.666667\n",
       "...                ...        ...                 ...\n",
       "2023-12-05           1  -0.999764            1.000000\n",
       "2023-12-11           1  -0.994897            1.000000\n",
       "2023-12-23           1   0.748121            0.000000\n",
       "2024-01-05           1   0.965976            0.000000\n",
       "2024-01-15           1  -0.980530            1.000000\n",
       "\n",
       "[1150 rows x 3 columns]"
      ]
     },
     "execution_count": 30,
     "metadata": {},
     "output_type": "execute_result"
    }
   ],
   "source": [
    "edits_df = pd.DataFrame.from_dict(edits, orient='index')\n",
    "edits_df"
   ]
  },
  {
   "cell_type": "code",
   "execution_count": 36,
   "id": "2875edb9-c9a8-4a26-b0d8-8eb640fe8f43",
   "metadata": {},
   "outputs": [],
   "source": [
    "edits_df.index = pd.to_datetime(edits_df.index)\n",
    "dates = pd.date_range(start='2014-01-27', end=datetime.today())\n",
    "edits_df = edits_df.reindex(dates, fill_value=0)"
   ]
  },
  {
   "cell_type": "code",
   "execution_count": 37,
   "id": "b6a11e22-faf3-4263-b028-f32f9c7159c5",
   "metadata": {},
   "outputs": [
    {
     "data": {
      "text/html": [
       "<div>\n",
       "<style scoped>\n",
       "    .dataframe tbody tr th:only-of-type {\n",
       "        vertical-align: middle;\n",
       "    }\n",
       "\n",
       "    .dataframe tbody tr th {\n",
       "        vertical-align: top;\n",
       "    }\n",
       "\n",
       "    .dataframe thead th {\n",
       "        text-align: right;\n",
       "    }\n",
       "</style>\n",
       "<table border=\"1\" class=\"dataframe\">\n",
       "  <thead>\n",
       "    <tr style=\"text-align: right;\">\n",
       "      <th></th>\n",
       "      <th>edit_count</th>\n",
       "      <th>sentiment</th>\n",
       "      <th>negative_sentiment</th>\n",
       "    </tr>\n",
       "  </thead>\n",
       "  <tbody>\n",
       "    <tr>\n",
       "      <th>2014-01-27</th>\n",
       "      <td>1</td>\n",
       "      <td>-0.998511</td>\n",
       "      <td>1.0</td>\n",
       "    </tr>\n",
       "    <tr>\n",
       "      <th>2014-01-28</th>\n",
       "      <td>0</td>\n",
       "      <td>0.000000</td>\n",
       "      <td>0.0</td>\n",
       "    </tr>\n",
       "    <tr>\n",
       "      <th>2014-01-29</th>\n",
       "      <td>0</td>\n",
       "      <td>0.000000</td>\n",
       "      <td>0.0</td>\n",
       "    </tr>\n",
       "    <tr>\n",
       "      <th>2014-01-30</th>\n",
       "      <td>0</td>\n",
       "      <td>0.000000</td>\n",
       "      <td>0.0</td>\n",
       "    </tr>\n",
       "    <tr>\n",
       "      <th>2014-01-31</th>\n",
       "      <td>0</td>\n",
       "      <td>0.000000</td>\n",
       "      <td>0.0</td>\n",
       "    </tr>\n",
       "    <tr>\n",
       "      <th>...</th>\n",
       "      <td>...</td>\n",
       "      <td>...</td>\n",
       "      <td>...</td>\n",
       "    </tr>\n",
       "    <tr>\n",
       "      <th>2024-01-11</th>\n",
       "      <td>0</td>\n",
       "      <td>0.000000</td>\n",
       "      <td>0.0</td>\n",
       "    </tr>\n",
       "    <tr>\n",
       "      <th>2024-01-12</th>\n",
       "      <td>0</td>\n",
       "      <td>0.000000</td>\n",
       "      <td>0.0</td>\n",
       "    </tr>\n",
       "    <tr>\n",
       "      <th>2024-01-13</th>\n",
       "      <td>0</td>\n",
       "      <td>0.000000</td>\n",
       "      <td>0.0</td>\n",
       "    </tr>\n",
       "    <tr>\n",
       "      <th>2024-01-14</th>\n",
       "      <td>0</td>\n",
       "      <td>0.000000</td>\n",
       "      <td>0.0</td>\n",
       "    </tr>\n",
       "    <tr>\n",
       "      <th>2024-01-15</th>\n",
       "      <td>1</td>\n",
       "      <td>-0.980530</td>\n",
       "      <td>1.0</td>\n",
       "    </tr>\n",
       "  </tbody>\n",
       "</table>\n",
       "<p>3641 rows × 3 columns</p>\n",
       "</div>"
      ],
      "text/plain": [
       "            edit_count  sentiment  negative_sentiment\n",
       "2014-01-27           1  -0.998511                 1.0\n",
       "2014-01-28           0   0.000000                 0.0\n",
       "2014-01-29           0   0.000000                 0.0\n",
       "2014-01-30           0   0.000000                 0.0\n",
       "2014-01-31           0   0.000000                 0.0\n",
       "...                ...        ...                 ...\n",
       "2024-01-11           0   0.000000                 0.0\n",
       "2024-01-12           0   0.000000                 0.0\n",
       "2024-01-13           0   0.000000                 0.0\n",
       "2024-01-14           0   0.000000                 0.0\n",
       "2024-01-15           1  -0.980530                 1.0\n",
       "\n",
       "[3641 rows x 3 columns]"
      ]
     },
     "execution_count": 37,
     "metadata": {},
     "output_type": "execute_result"
    }
   ],
   "source": [
    "edits_df"
   ]
  },
  {
   "cell_type": "code",
   "execution_count": 38,
   "id": "e0bf889a-fdcd-4746-9777-4a665078f7a0",
   "metadata": {},
   "outputs": [
    {
     "data": {
      "text/html": [
       "<div>\n",
       "<style scoped>\n",
       "    .dataframe tbody tr th:only-of-type {\n",
       "        vertical-align: middle;\n",
       "    }\n",
       "\n",
       "    .dataframe tbody tr th {\n",
       "        vertical-align: top;\n",
       "    }\n",
       "\n",
       "    .dataframe thead th {\n",
       "        text-align: right;\n",
       "    }\n",
       "</style>\n",
       "<table border=\"1\" class=\"dataframe\">\n",
       "  <thead>\n",
       "    <tr style=\"text-align: right;\">\n",
       "      <th></th>\n",
       "      <th>edit_count</th>\n",
       "      <th>sentiment</th>\n",
       "      <th>negative_sentiment</th>\n",
       "    </tr>\n",
       "  </thead>\n",
       "  <tbody>\n",
       "    <tr>\n",
       "      <th>2014-02-25</th>\n",
       "      <td>0.066667</td>\n",
       "      <td>-0.066526</td>\n",
       "      <td>0.066667</td>\n",
       "    </tr>\n",
       "    <tr>\n",
       "      <th>2014-02-26</th>\n",
       "      <td>0.033333</td>\n",
       "      <td>-0.033243</td>\n",
       "      <td>0.033333</td>\n",
       "    </tr>\n",
       "    <tr>\n",
       "      <th>2014-02-27</th>\n",
       "      <td>0.033333</td>\n",
       "      <td>-0.033243</td>\n",
       "      <td>0.033333</td>\n",
       "    </tr>\n",
       "    <tr>\n",
       "      <th>2014-02-28</th>\n",
       "      <td>0.033333</td>\n",
       "      <td>-0.033243</td>\n",
       "      <td>0.033333</td>\n",
       "    </tr>\n",
       "    <tr>\n",
       "      <th>2014-03-01</th>\n",
       "      <td>0.033333</td>\n",
       "      <td>-0.033243</td>\n",
       "      <td>0.033333</td>\n",
       "    </tr>\n",
       "    <tr>\n",
       "      <th>...</th>\n",
       "      <td>...</td>\n",
       "      <td>...</td>\n",
       "      <td>...</td>\n",
       "    </tr>\n",
       "    <tr>\n",
       "      <th>2024-01-11</th>\n",
       "      <td>0.066667</td>\n",
       "      <td>0.057137</td>\n",
       "      <td>0.000000</td>\n",
       "    </tr>\n",
       "    <tr>\n",
       "      <th>2024-01-12</th>\n",
       "      <td>0.066667</td>\n",
       "      <td>0.057137</td>\n",
       "      <td>0.000000</td>\n",
       "    </tr>\n",
       "    <tr>\n",
       "      <th>2024-01-13</th>\n",
       "      <td>0.066667</td>\n",
       "      <td>0.057137</td>\n",
       "      <td>0.000000</td>\n",
       "    </tr>\n",
       "    <tr>\n",
       "      <th>2024-01-14</th>\n",
       "      <td>0.066667</td>\n",
       "      <td>0.057137</td>\n",
       "      <td>0.000000</td>\n",
       "    </tr>\n",
       "    <tr>\n",
       "      <th>2024-01-15</th>\n",
       "      <td>0.100000</td>\n",
       "      <td>0.024452</td>\n",
       "      <td>0.033333</td>\n",
       "    </tr>\n",
       "  </tbody>\n",
       "</table>\n",
       "<p>3612 rows × 3 columns</p>\n",
       "</div>"
      ],
      "text/plain": [
       "            edit_count  sentiment  negative_sentiment\n",
       "2014-02-25    0.066667  -0.066526            0.066667\n",
       "2014-02-26    0.033333  -0.033243            0.033333\n",
       "2014-02-27    0.033333  -0.033243            0.033333\n",
       "2014-02-28    0.033333  -0.033243            0.033333\n",
       "2014-03-01    0.033333  -0.033243            0.033333\n",
       "...                ...        ...                 ...\n",
       "2024-01-11    0.066667   0.057137            0.000000\n",
       "2024-01-12    0.066667   0.057137            0.000000\n",
       "2024-01-13    0.066667   0.057137            0.000000\n",
       "2024-01-14    0.066667   0.057137            0.000000\n",
       "2024-01-15    0.100000   0.024452            0.033333\n",
       "\n",
       "[3612 rows x 3 columns]"
      ]
     },
     "execution_count": 38,
     "metadata": {},
     "output_type": "execute_result"
    }
   ],
   "source": [
    "rolling_edits = edits_df.rolling(30, min_periods=30).mean()\n",
    "rolling_edits = rolling_edits.dropna()\n",
    "rolling_edits"
   ]
  },
  {
   "cell_type": "markdown",
   "id": "c2bdea08-692d-4538-a7d4-ad420d63621d",
   "metadata": {},
   "source": [
    "# Save CSV"
   ]
  },
  {
   "cell_type": "code",
   "execution_count": 39,
   "id": "b9e4b706-e77f-4bc1-a23a-a136bc663e54",
   "metadata": {},
   "outputs": [],
   "source": [
    "rolling_edits.to_csv('ethereum_wikipedia.csv')"
   ]
  }
 ],
 "metadata": {
  "kernelspec": {
   "display_name": "Python 3 (ipykernel)",
   "language": "python",
   "name": "python3"
  },
  "language_info": {
   "codemirror_mode": {
    "name": "ipython",
    "version": 3
   },
   "file_extension": ".py",
   "mimetype": "text/x-python",
   "name": "python",
   "nbconvert_exporter": "python",
   "pygments_lexer": "ipython3",
   "version": "3.10.9"
  }
 },
 "nbformat": 4,
 "nbformat_minor": 5
}
