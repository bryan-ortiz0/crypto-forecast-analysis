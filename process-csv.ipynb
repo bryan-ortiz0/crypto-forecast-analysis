{
 "cells": [
  {
   "cell_type": "code",
   "execution_count": 30,
   "id": "6d89a1e6-7d5e-4eb2-98e5-b59c6d4900e7",
   "metadata": {},
   "outputs": [],
   "source": [
    "import pandas as pd"
   ]
  },
  {
   "cell_type": "code",
   "execution_count": 31,
   "id": "1238c503-2a6c-444c-afe6-15f69538c55d",
   "metadata": {},
   "outputs": [],
   "source": [
    "def load_and_process_data(file_path):\n",
    "    # Load the CSV file\n",
    "    df = pd.read_csv(file_path, header=1)\n",
    "\n",
    "    # Rename columns\n",
    "    df.rename(columns={'date': 'trading_point', 'Volume USD': 'volume'}, inplace=True)\n",
    "\n",
    "    # Convert 'trading_point' to datetime and remove timestamp\n",
    "    df['trading_point'] = pd.to_datetime(df['trading_point']).dt.strftime('%Y-%m-%d')\n",
    "\n",
    "    # Sort the DataFrame by 'trading_point'\n",
    "    df.sort_values(by='trading_point', inplace=True)\n",
    "\n",
    "    # Drop unnecessary columns\n",
    "    df.drop(columns=['unix', 'symbol', 'Volume ETH'], inplace=True)\n",
    "\n",
    "    # Save the DataFrame to a new CSV file\n",
    "    df.to_csv('ohlcv_daily.csv', index=False)\n",
    "\n",
    "    return df"
   ]
  },
  {
   "cell_type": "code",
   "execution_count": 32,
   "id": "7e791119-deaa-4117-b34f-31d9f8c172a9",
   "metadata": {},
   "outputs": [],
   "source": [
    "eth_daily = load_and_process_data('./Bitstamp_ETHUSD_d.csv')"
   ]
  },
  {
   "cell_type": "code",
   "execution_count": 33,
   "id": "29ae296c-15fa-468b-93e8-9aba880739e0",
   "metadata": {},
   "outputs": [
    {
     "data": {
      "text/html": [
       "<div>\n",
       "<style scoped>\n",
       "    .dataframe tbody tr th:only-of-type {\n",
       "        vertical-align: middle;\n",
       "    }\n",
       "\n",
       "    .dataframe tbody tr th {\n",
       "        vertical-align: top;\n",
       "    }\n",
       "\n",
       "    .dataframe thead th {\n",
       "        text-align: right;\n",
       "    }\n",
       "</style>\n",
       "<table border=\"1\" class=\"dataframe\">\n",
       "  <thead>\n",
       "    <tr style=\"text-align: right;\">\n",
       "      <th></th>\n",
       "      <th>trading_point</th>\n",
       "      <th>open</th>\n",
       "      <th>high</th>\n",
       "      <th>low</th>\n",
       "      <th>close</th>\n",
       "      <th>volume</th>\n",
       "    </tr>\n",
       "  </thead>\n",
       "  <tbody>\n",
       "    <tr>\n",
       "      <th>2254</th>\n",
       "      <td>2017-11-09</td>\n",
       "      <td>322.15</td>\n",
       "      <td>331.70</td>\n",
       "      <td>317.29</td>\n",
       "      <td>321.32</td>\n",
       "      <td>13118.15</td>\n",
       "    </tr>\n",
       "    <tr>\n",
       "      <th>2253</th>\n",
       "      <td>2017-11-10</td>\n",
       "      <td>321.32</td>\n",
       "      <td>325.61</td>\n",
       "      <td>291.00</td>\n",
       "      <td>298.66</td>\n",
       "      <td>34411.65</td>\n",
       "    </tr>\n",
       "    <tr>\n",
       "      <th>2252</th>\n",
       "      <td>2017-11-11</td>\n",
       "      <td>298.66</td>\n",
       "      <td>322.19</td>\n",
       "      <td>298.00</td>\n",
       "      <td>315.76</td>\n",
       "      <td>23836.74</td>\n",
       "    </tr>\n",
       "    <tr>\n",
       "      <th>2251</th>\n",
       "      <td>2017-11-12</td>\n",
       "      <td>315.76</td>\n",
       "      <td>318.98</td>\n",
       "      <td>300.11</td>\n",
       "      <td>306.10</td>\n",
       "      <td>48200.80</td>\n",
       "    </tr>\n",
       "    <tr>\n",
       "      <th>2250</th>\n",
       "      <td>2017-11-13</td>\n",
       "      <td>306.10</td>\n",
       "      <td>320.69</td>\n",
       "      <td>305.91</td>\n",
       "      <td>316.14</td>\n",
       "      <td>36613.50</td>\n",
       "    </tr>\n",
       "  </tbody>\n",
       "</table>\n",
       "</div>"
      ],
      "text/plain": [
       "     trading_point    open    high     low   close    volume\n",
       "2254    2017-11-09  322.15  331.70  317.29  321.32  13118.15\n",
       "2253    2017-11-10  321.32  325.61  291.00  298.66  34411.65\n",
       "2252    2017-11-11  298.66  322.19  298.00  315.76  23836.74\n",
       "2251    2017-11-12  315.76  318.98  300.11  306.10  48200.80\n",
       "2250    2017-11-13  306.10  320.69  305.91  316.14  36613.50"
      ]
     },
     "execution_count": 33,
     "metadata": {},
     "output_type": "execute_result"
    }
   ],
   "source": [
    "eth_daily.head()"
   ]
  },
  {
   "cell_type": "code",
   "execution_count": 34,
   "id": "81917c5a-b17e-4dfa-83ca-96cdddba792c",
   "metadata": {},
   "outputs": [
    {
     "data": {
      "text/plain": [
       "(2255, 6)"
      ]
     },
     "execution_count": 34,
     "metadata": {},
     "output_type": "execute_result"
    }
   ],
   "source": [
    "eth_daily.shape"
   ]
  }
 ],
 "metadata": {
  "kernelspec": {
   "display_name": "Python 3 (ipykernel)",
   "language": "python",
   "name": "python3"
  },
  "language_info": {
   "codemirror_mode": {
    "name": "ipython",
    "version": 3
   },
   "file_extension": ".py",
   "mimetype": "text/x-python",
   "name": "python",
   "nbconvert_exporter": "python",
   "pygments_lexer": "ipython3",
   "version": "3.10.9"
  }
 },
 "nbformat": 4,
 "nbformat_minor": 5
}
